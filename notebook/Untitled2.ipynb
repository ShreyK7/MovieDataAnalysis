{
 "cells": [
  {
   "cell_type": "code",
   "execution_count": 35,
   "id": "020de0db-fa3a-42c3-9656-540862063fa3",
   "metadata": {},
   "outputs": [],
   "source": [
    "import numpy as np\n",
    "from sklearn.feature_extraction.text import TfidfVectorizer\n",
    "from sklearn.metrics.pairwise import cosine_similarity\n",
    "from datetime import datetime\n",
    "from sklearn.preprocessing import MultiLabelBinarizer\n",
    "import json\n",
    "\n",
    "\n",
    "def getcosineSimilarity( ):\n",
    "\n",
    "    movie = [\n",
    "            {'adult': False, \n",
    "               'backdrop_path': None, \n",
    "               'id': 289673, \n",
    "               'title': 'Cinderella', \n",
    "               'original_language': 'en', \n",
    "               'original_title': 'Cinderella', \n",
    "               'overview': \"Zezolla and her family live mid 20th century, where fashion is practically everything. As her father is won over by a selfish woman named Claudette, Cinderella must keep her new step-mother from murdering the only family she has left. Add in an anti-social mermaid literally living in a cave, a bored prince with an ear for rock n roll, and the glamour of the 1950s and onell find that this story cant grow old.\" ,\n",
    "                   \n",
    "               'poster_path': '/gMYkSooSEr8bw4zbAkJf7HCN36x.jpg', \n",
    "               'media_type': 'movie', \n",
    "               'genre_ids': [], \n",
    "               'popularity': 3.382, \n",
    "               'release_date': '2000-01-01', \n",
    "               'video': False, \n",
    "               'vote_average': 6.1, \n",
    "               'vote_count': 22\n",
    "            }\n",
    "               ]\n",
    "\n",
    "    movie2 = [{'adult': False, \n",
    "               'backdrop_path': '/4Bb1kMIfrT2tYRZ9M6Jhqy6gkeF.jpg', \n",
    "               'id': 76203, \n",
    "               'title': '12 Years a Slave', \n",
    "               'original_language': 'en', \n",
    "               'original_title': '12 Years a Slave', \n",
    "               'overview': 'In the pre-Civil War United States, Solomon Northup, a free black man from upstate New York, is abducted and sold into slavery. Facing cruelty as well as unexpected kindnesses Solomon struggles not only to stay alive, but to retain his dignity. In the twelfth year of his unforgettable odyssey, Solomon’s chance meeting with a Canadian abolitionist will forever alter his life.', \n",
    "               'poster_path': '/xdANQijuNrJaw1HA61rDccME4Tm.jpg', \n",
    "               'media_type': 'movie', \n",
    "               'genre_ids': [18, 36], \n",
    "               'popularity': 59.135, \n",
    "               'release_date': '2013-10-18', \n",
    "               'video': False, \n",
    "               'vote_average': 7.945, \n",
    "               'vote_count': 10706}\n",
    "             ]\n",
    "\n",
    "    movie1 = [{'adult': False, \n",
    "               'backdrop_path': '/c3OHQncTAnKFhdOTX7D3LTW6son.jpg', \n",
    "               'id': 49026, \n",
    "               'title': 'The Dark Knight Rises', \n",
    "               'original_language': 'en', \n",
    "               'original_title': 'The Dark Knight Rises', \n",
    "               'overview': \"Following the death of District Attorney Harvey Dent, Batman assumes responsibility for Dent's crimes to protect the late attorney's reputation and is subsequently hunted by the Gotham City Police Department. Eight years later, Batman encounters the mysterious Selina Kyle and the villainous Bane, a new terrorist leader who overwhelms Gotham's finest. The Dark Knight resurfaces to protect a city that has branded him an enemy.\", 'poster_path': '/hr0L2aueqlP2BYUblTTjmtn0hw4.jpg', \n",
    "               'media_type': 'movie', \n",
    "               'genre_ids': [28, 80, 18, 53], \n",
    "               'popularity': 84.622, \n",
    "               'release_date': '2012-07-17', \n",
    "               'video': False, \n",
    "               'vote_average': 7.777, \n",
    "               'vote_count': 21580}]\n",
    "\n",
    "    similarity = cosine( movie1[0], movie2[0] )\n",
    "\n",
    "    print( similarity ) \n",
    "\n",
    "\n"
   ]
  },
  {
   "cell_type": "code",
   "execution_count": 38,
   "id": "7a76c0e0-719f-4689-9e08-a3b4ffec61c0",
   "metadata": {},
   "outputs": [],
   "source": [
    "def cosine(movie1, movie2):\n",
    "    # Example movies data\n",
    "    movies = [\n",
    "        movie1,\n",
    "        movie2\n",
    "    ]\n",
    "\n",
    "        # Convert 'release_date' to a numerical value\n",
    "    def get_year(date_str):\n",
    "        try:\n",
    "            return datetime.strptime(date_str, '%Y-%m-%d').year\n",
    "        except:\n",
    "            return 0\n",
    "    \n",
    "    # Vectorize the 'title' and 'overview' using TF-IDF\n",
    "    tfidf_vectorizer = TfidfVectorizer(stop_words='english')\n",
    "    title_overview = [' '.join([movie['title'], movie['overview']]) for movie in movies]\n",
    "    tfidf_matrix = tfidf_vectorizer.fit_transform(title_overview)\n",
    "    \n",
    "    # One-hot encode 'genre_ids'\n",
    "    mlb = MultiLabelBinarizer()\n",
    "    genres_matrix = mlb.fit_transform([movie['genre_ids'] for movie in movies])\n",
    "    \n",
    "    # Combine all features\n",
    "    release_years = np.array([get_year(movie['release_date']) for movie in movies]).reshape(-1, 1)\n",
    "    features = np.hstack((tfidf_matrix.toarray(), genres_matrix, release_years))\n",
    "    \n",
    "    # Function to calculate cosine similarity\n",
    "    def calculate_cosine_similarity(movie_index_1, movie_index_2):\n",
    "        return cosine_similarity([features[movie_index_1]], [features[movie_index_2]])\n",
    "    \n",
    "    # Example: Calculate similarity between the first two movies\n",
    "    similarity = calculate_cosine_similarity(0, 1)\n",
    "    print(similarity.item())\n",
    "\n"
   ]
  },
  {
   "cell_type": "code",
   "execution_count": 39,
   "id": "6fe6d5ca-3055-42e9-a4d6-b853c79d7656",
   "metadata": {},
   "outputs": [
    {
     "name": "stdout",
     "output_type": "stream",
     "text": [
      "0.9999992638838815\n",
      "None\n"
     ]
    }
   ],
   "source": [
    "getcosineSimilarity()"
   ]
  },
  {
   "cell_type": "code",
   "execution_count": null,
   "id": "5dfa5ffa-c2f7-45de-9b5b-924137b8e65a",
   "metadata": {},
   "outputs": [],
   "source": []
  },
  {
   "cell_type": "code",
   "execution_count": null,
   "id": "ce1cdbea-5deb-47e0-b0bf-c3c22d064d26",
   "metadata": {},
   "outputs": [],
   "source": []
  },
  {
   "cell_type": "code",
   "execution_count": null,
   "id": "817a592a-7c07-466d-a4f1-504535cdba43",
   "metadata": {},
   "outputs": [],
   "source": []
  },
  {
   "cell_type": "code",
   "execution_count": null,
   "id": "96730064-f7ba-46d0-956c-1fff46ad8b1d",
   "metadata": {},
   "outputs": [],
   "source": []
  },
  {
   "cell_type": "code",
   "execution_count": null,
   "id": "66e0c166-cf0f-46f0-ba63-9f1bc23af911",
   "metadata": {},
   "outputs": [],
   "source": []
  },
  {
   "cell_type": "code",
   "execution_count": null,
   "id": "52ce4c77-2142-4726-a6d8-e6aa676316e7",
   "metadata": {},
   "outputs": [],
   "source": []
  }
 ],
 "metadata": {
  "kernelspec": {
   "display_name": "Python 3 (ipykernel)",
   "language": "python",
   "name": "python3"
  },
  "language_info": {
   "codemirror_mode": {
    "name": "ipython",
    "version": 3
   },
   "file_extension": ".py",
   "mimetype": "text/x-python",
   "name": "python",
   "nbconvert_exporter": "python",
   "pygments_lexer": "ipython3",
   "version": "3.11.6"
  }
 },
 "nbformat": 4,
 "nbformat_minor": 5
}
